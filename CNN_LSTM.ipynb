{
  "metadata": {
    "kernelspec": {
      "language": "python",
      "display_name": "Python 3",
      "name": "python3"
    },
    "language_info": {
      "name": "python",
      "version": "3.7.12",
      "mimetype": "text/x-python",
      "codemirror_mode": {
        "name": "ipython",
        "version": 3
      },
      "pygments_lexer": "ipython3",
      "nbconvert_exporter": "python",
      "file_extension": ".py"
    },
    "colab": {
      "name": "CNN_LSTM.ipynb",
      "provenance": [],
      "include_colab_link": true
    }
  },
  "nbformat_minor": 0,
  "nbformat": 4,
  "cells": [
    {
      "cell_type": "markdown",
      "metadata": {
        "id": "view-in-github",
        "colab_type": "text"
      },
      "source": [
        "<a href=\"https://colab.research.google.com/github/trilgar/CNN_LSTM-heartbeat-classifier/blob/main/CNN_LSTM.ipynb\" target=\"_parent\"><img src=\"https://colab.research.google.com/assets/colab-badge.svg\" alt=\"Open In Colab\"/></a>"
      ]
    },
    {
      "cell_type": "code",
      "source": [
        "import numpy as np\n",
        "import pandas as pd "
      ],
      "metadata": {
        "_uuid": "8f2839f25d086af736a60e9eeb907d3b93b6e0e5",
        "_cell_guid": "b1076dfc-b9ad-4769-8c92-a6c4dae69d19",
        "execution": {
          "iopub.status.busy": "2022-04-07T13:18:21.430628Z",
          "iopub.execute_input": "2022-04-07T13:18:21.432992Z",
          "iopub.status.idle": "2022-04-07T13:18:21.436644Z",
          "shell.execute_reply.started": "2022-04-07T13:18:21.432943Z",
          "shell.execute_reply": "2022-04-07T13:18:21.436032Z"
        },
        "trusted": true,
        "id": "1DL0v7pATtcU"
      },
      "execution_count": null,
      "outputs": []
    },
    {
      "cell_type": "code",
      "source": [
        "import torch\n",
        "from torch.utils.data import DataLoader\n",
        "from torch import nn,optim\n",
        "import sys\n",
        "from tqdm import tqdm\n",
        "from torch.autograd import Variable"
      ],
      "metadata": {
        "execution": {
          "iopub.status.busy": "2022-04-07T13:18:21.616811Z",
          "iopub.execute_input": "2022-04-07T13:18:21.617216Z",
          "iopub.status.idle": "2022-04-07T13:18:21.621179Z",
          "shell.execute_reply.started": "2022-04-07T13:18:21.617186Z",
          "shell.execute_reply": "2022-04-07T13:18:21.620574Z"
        },
        "trusted": true,
        "id": "8buCSm37Ttca"
      },
      "execution_count": null,
      "outputs": []
    },
    {
      "cell_type": "code",
      "source": [
        "from sklearn.utils import resample\n",
        "\n",
        "def upsample(train_data):\n",
        "   \n",
        "\n",
        "    df_1=train_data[train_data[187]==1]\n",
        "    df_2=train_data[train_data[187]==2]\n",
        "    df_3=train_data[train_data[187]==3]\n",
        "    df_4=train_data[train_data[187]==4]\n",
        "    df_0=(train_data[train_data[187]==0]).sample(n=20000,random_state=42)\n",
        "\n",
        "    df_1_upsample=resample(df_1,replace=True,n_samples=20000,random_state=123)\n",
        "    df_2_upsample=resample(df_2,replace=True,n_samples=20000,random_state=124)\n",
        "    df_3_upsample=resample(df_3,replace=True,n_samples=20000,random_state=125)\n",
        "    df_4_upsample=resample(df_4,replace=True,n_samples=20000,random_state=126)\n",
        "\n",
        "    train_df=pd.concat([df_0,df_1_upsample,df_2_upsample,df_3_upsample,df_4_upsample])\n",
        "    \n",
        "    return train_df"
      ],
      "metadata": {
        "execution": {
          "iopub.status.busy": "2022-04-07T13:18:21.786736Z",
          "iopub.execute_input": "2022-04-07T13:18:21.787167Z",
          "iopub.status.idle": "2022-04-07T13:18:21.795497Z",
          "shell.execute_reply.started": "2022-04-07T13:18:21.787136Z",
          "shell.execute_reply": "2022-04-07T13:18:21.794851Z"
        },
        "trusted": true,
        "id": "-KssJSQOTtca"
      },
      "execution_count": null,
      "outputs": []
    },
    {
      "cell_type": "code",
      "source": [
        "def extend_with_generated(dataset):\n",
        "    file_names = ['../input/heartbeat-dataset-gan-generated/heartbeat1.csv',\n",
        "                 '../input/heartbeat-dataset-gan-generated/heartbeat2.csv',\n",
        "                 '../input/heartbeat-dataset-gan-generated/heartbeat2_1.csv',\n",
        "                 '../input/heartbeat-dataset-gan-generated/heartbeat2_2.csv',\n",
        "                 '../input/heartbeat-dataset-gan-generated/heartbeat2_3.csv',\n",
        "                 '../input/heartbeat-dataset-gan-generated/heartbeat3.csv',\n",
        "                 '../input/heartbeat-dataset-gan-generated/heartbeat3_1.csv',\n",
        "                 '../input/heartbeat-dataset-gan-generated/heartbeat3_2.csv',\n",
        "                 '../input/heartbeat-dataset-gan-generated/heartbeat3_3.csv',\n",
        "                 '../input/heartbeat-dataset-gan-generated/heartbeat4.csv']\n",
        "    for path in file_names:\n",
        "        generated = pd.read_csv(path, index_col= 0, header=0)\n",
        "        generated.columns = dataset.columns\n",
        "        dataset = pd.concat([dataset, generated])\n",
        "    dataset = dataset.reset_index(drop=True)\n",
        "    return dataset\n",
        "\n"
      ],
      "metadata": {
        "execution": {
          "iopub.status.busy": "2022-04-07T13:18:21.896229Z",
          "iopub.execute_input": "2022-04-07T13:18:21.896634Z",
          "iopub.status.idle": "2022-04-07T13:18:21.902958Z",
          "shell.execute_reply.started": "2022-04-07T13:18:21.896603Z",
          "shell.execute_reply": "2022-04-07T13:18:21.902231Z"
        },
        "trusted": true,
        "id": "WRB5onizTtcb"
      },
      "execution_count": null,
      "outputs": []
    },
    {
      "cell_type": "code",
      "source": [
        "data = pd.read_csv('/kaggle/input/heartbeat/mitbih_train.csv', header=None)\n",
        "data"
      ],
      "metadata": {
        "execution": {
          "iopub.status.busy": "2022-04-07T13:18:22.015310Z",
          "iopub.execute_input": "2022-04-07T13:18:22.015877Z",
          "iopub.status.idle": "2022-04-07T13:18:26.801930Z",
          "shell.execute_reply.started": "2022-04-07T13:18:22.015841Z",
          "shell.execute_reply": "2022-04-07T13:18:26.801258Z"
        },
        "trusted": true,
        "id": "L6TDdP0RTtcc"
      },
      "execution_count": null,
      "outputs": []
    },
    {
      "cell_type": "code",
      "source": [
        "\n",
        "data = extend_with_generated(data)\n",
        "data"
      ],
      "metadata": {
        "execution": {
          "iopub.status.busy": "2022-04-07T13:18:26.803289Z",
          "iopub.execute_input": "2022-04-07T13:18:26.803645Z",
          "iopub.status.idle": "2022-04-07T13:18:30.411705Z",
          "shell.execute_reply.started": "2022-04-07T13:18:26.803615Z",
          "shell.execute_reply": "2022-04-07T13:18:30.410842Z"
        },
        "trusted": true,
        "id": "gfy4JTKJTtcd"
      },
      "execution_count": null,
      "outputs": []
    },
    {
      "cell_type": "code",
      "source": [
        "data[187].value_counts()\n"
      ],
      "metadata": {
        "execution": {
          "iopub.status.busy": "2022-04-07T13:18:30.412852Z",
          "iopub.execute_input": "2022-04-07T13:18:30.413092Z",
          "iopub.status.idle": "2022-04-07T13:18:30.422749Z",
          "shell.execute_reply.started": "2022-04-07T13:18:30.413056Z",
          "shell.execute_reply": "2022-04-07T13:18:30.421853Z"
        },
        "trusted": true,
        "id": "wIg5n55cTtce"
      },
      "execution_count": null,
      "outputs": []
    },
    {
      "cell_type": "code",
      "source": [
        "#define a Dataloader function\n",
        "def my_DataLoader(train_root,test_root,batch_size = 100, val_split_factor = 0.2):\n",
        "\n",
        "    train_df = pd.read_csv(train_root, header=None)\n",
        "    test_df = pd.read_csv(test_root, header=None)\n",
        "    \n",
        "    \n",
        "\n",
        "    train_data = train_df.to_numpy()\n",
        "    test_data = test_df.to_numpy()\n",
        "\n",
        "    train_dataset = torch.utils.data.TensorDataset(torch.from_numpy(train_data[:, :-1]).float(),\n",
        "                                                   torch.from_numpy(train_data[:, -1]).long(),)\n",
        "    test_dataset = torch.utils.data.TensorDataset(torch.from_numpy(test_data[:, :-1]).float(),\n",
        "                                                  torch.from_numpy(test_data[:, -1]).long())\n",
        "\n",
        "    train_len = train_data.shape[0]\n",
        "    val_len = int(train_len * val_split_factor)\n",
        "    train_len -= val_len\n",
        "\n",
        "    train_dataset, val_dataset = torch.utils.data.random_split(train_dataset, [train_len, val_len])\n",
        "\n",
        "    train_loader = DataLoader(train_dataset, batch_size=batch_size, shuffle=True)\n",
        "    val_loader = DataLoader(val_dataset, batch_size=batch_size, shuffle=True)\n",
        "    test_loader = DataLoader(test_dataset, batch_size=batch_size, shuffle=True)\n",
        "\n",
        "    return train_loader, val_loader, test_loader"
      ],
      "metadata": {
        "execution": {
          "iopub.status.busy": "2022-04-07T13:18:30.425492Z",
          "iopub.execute_input": "2022-04-07T13:18:30.425844Z",
          "iopub.status.idle": "2022-04-07T13:18:30.436603Z",
          "shell.execute_reply.started": "2022-04-07T13:18:30.425800Z",
          "shell.execute_reply": "2022-04-07T13:18:30.435641Z"
        },
        "trusted": true,
        "id": "RfPTaYO5Ttce"
      },
      "execution_count": null,
      "outputs": []
    },
    {
      "cell_type": "code",
      "source": [
        "#define the NET model\n",
        "\n",
        "class  conv_net(nn.Module):\n",
        "\n",
        "    def __init__(self, num_of_class):\n",
        "        super(conv_net, self).__init__()\n",
        "        self.lstm = nn.LSTM(input_size=187, hidden_size=64,\n",
        "                          num_layers=5, batch_first=True) #lstm\n",
        "        self.relu = nn.LeakyReLU(inplace=True)\n",
        "        \n",
        "\n",
        "        self.model = nn.Sequential(\n",
        "            nn.Conv1d(1, 16, kernel_size=3, stride=1, padding=1),\n",
        "            nn.MaxPool1d(2),\n",
        "\n",
        "            nn.Conv1d(16, 64, kernel_size=3, stride=1, padding=1),\n",
        "            nn.MaxPool1d(2),\n",
        "\n",
        "            nn.Conv1d(64, 128, kernel_size=3, stride=1, padding=1),\n",
        "            nn.MaxPool1d(2),\n",
        "\n",
        "        )\n",
        "\n",
        "        self.linear = nn.Sequential(\n",
        "            nn.Linear(2944,500),\n",
        "            nn.LeakyReLU(inplace=True),\n",
        "            nn.Linear(500, num_of_class),\n",
        "\n",
        "        )\n",
        "\n",
        "\n",
        "    def forward(self,x):\n",
        "        x = x.unsqueeze(1)\n",
        "        h_0 = Variable(torch.zeros(5, x.size(0), 64)) \n",
        "        c_0 = Variable(torch.zeros(5, x.size(0), 64)) \n",
        "        \n",
        "        output, (hn, cn) = self.lstm(x)\n",
        "        hn = hn.view(-1, 64) \n",
        "        \n",
        "        out = self.relu(x)\n",
        "        \n",
        "        x = self.model(out)\n",
        "        x = x.view(x.size(0), -1)\n",
        "        x = self.linear(x)\n",
        "\n",
        "        return x\n"
      ],
      "metadata": {
        "execution": {
          "iopub.status.busy": "2022-04-07T13:18:30.438282Z",
          "iopub.execute_input": "2022-04-07T13:18:30.438648Z",
          "iopub.status.idle": "2022-04-07T13:18:30.452518Z",
          "shell.execute_reply.started": "2022-04-07T13:18:30.438606Z",
          "shell.execute_reply": "2022-04-07T13:18:30.451625Z"
        },
        "trusted": true,
        "id": "e0MvGBcCTtcf"
      },
      "execution_count": null,
      "outputs": []
    },
    {
      "cell_type": "code",
      "source": [
        "from sklearn.metrics import accuracy_score, classification_report, confusion_matrix, label_ranking_average_precision_score, label_ranking_loss, coverage_error \n",
        "\n",
        "def print_metric_evaluation(model, loader):\n",
        "    model.eval()\n",
        "\n",
        "    correct = 0\n",
        "    total = len(loader.dataset)\n",
        "    pred = []\n",
        "    real = []\n",
        "    \n",
        "    for x, y in loader:\n",
        "        x, y = x.to(device), y.to(device)\n",
        "        with torch.no_grad():\n",
        "            logits = model(x)\n",
        "            pr = logits.argmax(dim=1)\n",
        "            pred.extend(pr.detach().numpy())\n",
        "            real.extend(y.detach().numpy())\n",
        "            \n",
        "#     print(pred)\n",
        "#     print(real)\n",
        "    \n",
        "    print(classification_report(pred, real))\n",
        "\n",
        "    "
      ],
      "metadata": {
        "execution": {
          "iopub.status.busy": "2022-04-07T13:18:30.454030Z",
          "iopub.execute_input": "2022-04-07T13:18:30.454560Z",
          "iopub.status.idle": "2022-04-07T13:18:30.465322Z",
          "shell.execute_reply.started": "2022-04-07T13:18:30.454516Z",
          "shell.execute_reply": "2022-04-07T13:18:30.464337Z"
        },
        "trusted": true,
        "id": "rO6gUkjCTtcg"
      },
      "execution_count": null,
      "outputs": []
    },
    {
      "cell_type": "code",
      "source": [
        "batch_size=1000\n",
        "lr = 3e-3\n",
        "epochs = 50\n",
        "torch.manual_seed(1234)\n",
        "\n",
        "device = torch.device(\"cuda:0\" if torch.cuda.is_available() else \"cpu\")\n",
        "print(\"using {} device.\".format(device))\n",
        "\n",
        "accuracy = []\n",
        "loss_ = []\n",
        "    \n",
        "\n",
        "def evalute(model, loader):\n",
        "    model.eval()\n",
        "\n",
        "    correct = 0\n",
        "    total = len(loader.dataset)\n",
        "    val_bar = tqdm(loader, file=sys.stdout)\n",
        "    for x, y in val_bar:\n",
        "        x, y = x.to(device), y.to(device)\n",
        "        with torch.no_grad():\n",
        "            logits = model(x)\n",
        "            pred = logits.argmax(dim=1)\n",
        "        correct += torch.eq(pred, y).sum().float().item()\n",
        "\n",
        "\n",
        "    return correct / total\n",
        "\n",
        "def main():\n",
        "\n",
        "    train_loader, val_loader, test_loader = my_DataLoader('/kaggle/input/heartbeat/mitbih_train.csv',\n",
        "                                                          '/kaggle/input/heartbeat/mitbih_test.csv',\n",
        "                                                          batch_size=batch_size,\n",
        "                                                          val_split_factor=0.2)\n",
        "\n",
        "    model = conv_net(5).to(device)\n",
        "    optimizer = optim.Adam(model.parameters(), lr=lr)\n",
        "    criteon = nn.CrossEntropyLoss()\n",
        "\n",
        "    best_acc, best_epoch = 0, 0\n",
        "    global_step = 0\n",
        "    \n",
        "\n",
        "\n",
        "    for epoch in range(epochs):\n",
        "\n",
        "        train_bar = tqdm(train_loader, file=sys.stdout)\n",
        "        for step, (x, y) in enumerate(train_bar):\n",
        "            x, y = x.to(device), y.to(device)\n",
        "\n",
        "            model.train()\n",
        "            logits = model(x)\n",
        "            loss = criteon(logits, y)\n",
        "            \n",
        "            loss_.append(loss.detach().numpy())\n",
        "\n",
        "            optimizer.zero_grad()\n",
        "            loss.backward()\n",
        "\n",
        "            optimizer.step()\n",
        "\n",
        "            train_bar.desc = \"train epoch[{}/{}] loss:{:.3f}\".format(epoch + 1,\n",
        "                                                                     epochs,\n",
        "                                                                     loss)\n",
        "\n",
        "            global_step += 1\n",
        "\n",
        "        if epoch % 1 == 0:\n",
        "\n",
        "            val_acc = evalute(model, val_loader)\n",
        "            accuracy.append(val_acc)\n",
        "            print('val_acc = ',val_acc)\n",
        "            if val_acc > best_acc:\n",
        "                best_epoch = epoch\n",
        "                best_acc = val_acc\n",
        "\n",
        "                torch.save(model.state_dict(), 'best.mdl')\n",
        "\n",
        "    print('best acc:', best_acc, 'best epoch:', best_epoch)\n",
        "\n",
        "    model.load_state_dict(torch.load('best.mdl'))\n",
        "    print('loaded from ckpt!')\n",
        "\n",
        "    test_acc = evalute(model, test_loader)\n",
        "    print('test acc:', test_acc)\n",
        "\n",
        "    \n",
        "    print_metric_evaluation(model, test_loader)\n",
        "\n",
        "\n",
        "if __name__ == '__main__':\n",
        "    main()\n"
      ],
      "metadata": {
        "execution": {
          "iopub.status.busy": "2022-04-07T13:18:30.466533Z",
          "iopub.execute_input": "2022-04-07T13:18:30.466876Z",
          "iopub.status.idle": "2022-04-07T13:36:49.614591Z",
          "shell.execute_reply.started": "2022-04-07T13:18:30.466844Z",
          "shell.execute_reply": "2022-04-07T13:36:49.613644Z"
        },
        "trusted": true,
        "id": "QBaU0Zm8Ttch"
      },
      "execution_count": null,
      "outputs": []
    },
    {
      "cell_type": "code",
      "source": [
        "import matplotlib.pyplot as plt\n",
        "\n",
        "plt.title('accuracy')\n",
        "plt.plot(accuracy, label=\"train\")\n",
        "plt.ylabel='accuracy'\n",
        "plt.legend()\n",
        "plt.show()"
      ],
      "metadata": {
        "execution": {
          "iopub.status.busy": "2022-04-07T13:36:49.615807Z",
          "iopub.execute_input": "2022-04-07T13:36:49.616110Z",
          "iopub.status.idle": "2022-04-07T13:36:49.844355Z",
          "shell.execute_reply.started": "2022-04-07T13:36:49.616078Z",
          "shell.execute_reply": "2022-04-07T13:36:49.843527Z"
        },
        "trusted": true,
        "id": "iCGSv0_STtch"
      },
      "execution_count": null,
      "outputs": []
    },
    {
      "cell_type": "code",
      "source": [
        "plt.title('loss')\n",
        "plt.plot(loss_, label='train')\n",
        "plt.ylabel='accuracy'\n",
        "plt.legend()\n",
        "plt.show()"
      ],
      "metadata": {
        "execution": {
          "iopub.status.busy": "2022-04-07T13:36:49.845690Z",
          "iopub.execute_input": "2022-04-07T13:36:49.846006Z",
          "iopub.status.idle": "2022-04-07T13:36:50.059847Z",
          "shell.execute_reply.started": "2022-04-07T13:36:49.845966Z",
          "shell.execute_reply": "2022-04-07T13:36:50.059043Z"
        },
        "trusted": true,
        "id": "PeHo8pkFTtci"
      },
      "execution_count": null,
      "outputs": []
    },
    {
      "cell_type": "code",
      "source": [
        ""
      ],
      "metadata": {
        "trusted": true,
        "id": "EqHUY1__Ttci"
      },
      "execution_count": null,
      "outputs": []
    }
  ]
}